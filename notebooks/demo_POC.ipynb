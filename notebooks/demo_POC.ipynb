{
 "cells": [
  {
   "cell_type": "code",
   "execution_count": null,
   "metadata": {},
   "outputs": [],
   "source": [
    "import pandas as pd\n",
    "from pathlib import Path\n",
    "from PIL import Image\n",
    "# turn off pandas warnings for this notebook\n",
    "pd.options.mode.chained_assignment = None\n",
    "import re\n"
   ]
  },
  {
   "cell_type": "code",
   "execution_count": null,
   "metadata": {},
   "outputs": [],
   "source": [
    "# read the data\n",
    "df_processed = pd.read_csv(\"../mock_tg_data_to_inference_pythonic.csv\")"
   ]
  },
  {
   "cell_type": "code",
   "execution_count": null,
   "metadata": {},
   "outputs": [],
   "source": [
    "# define a function to display mock telegram messages\n",
    "def display_orig_message(row):\n",
    "    \"\"\"\n",
    "    Display a mock telegram message using image_attachment, message_text, date_time\n",
    "    \"\"\"\n",
    "\n",
    "    # get the image attachment\n",
    "    image_attachment = Path(row[\"image_attachment\"])\n",
    "    # get the message text\n",
    "    message_text = row[\"message_text\"]\n",
    "    # get the date time\n",
    "    date_time = row[\"date_time\"]\n",
    "\n",
    "    # print the message id\n",
    "    print(\"MOCK TELEGRAM MESSAGE ID:\", row[\"message_id\"])\n",
    "    # display the message text\n",
    "    print(\"MOCK TELEGRAM MESSAGE TEXT:\", message_text)\n",
    "    # display the date time\n",
    "    print(\"MOCK TELEGRAM MESSAGE DATETIME:\", date_time)\n",
    "    # display the image attachment\n",
    "    image = Image.open(image_attachment)\n",
    "    image.thumbnail((800, 800))\n",
    "    display(image)\n",
    "\n",
    "    # print a new line\n",
    "    print(\"\\n\")   \n",
    "    print(\"\\n\")  \n"
   ]
  },
  {
   "cell_type": "code",
   "execution_count": null,
   "metadata": {},
   "outputs": [],
   "source": [
    "# display the first message\n",
    "display_orig_message(df_processed.iloc[0])"
   ]
  },
  {
   "cell_type": "code",
   "execution_count": null,
   "metadata": {},
   "outputs": [],
   "source": [
    "# display all the messages\n",
    "for index, row in df_processed.iterrows():\n",
    "    display_orig_message(row)"
   ]
  },
  {
   "cell_type": "code",
   "execution_count": null,
   "metadata": {},
   "outputs": [],
   "source": [
    "\n",
    "\n",
    "phrases = [\"synagogue\", \"kehillat\", \"congregation\", \"kesher\", \"tree of life\",\n",
    "\"jewish federation\", \"KNESETH\", \"jewish center\", \"beth\", \"L'SIMCHA\", \n",
    "\"rabbi.+building\", # anything starts with rabbi and ends with building\n",
    "\"young israel\", \n",
    "]\n"
   ]
  },
  {
   "cell_type": "code",
   "execution_count": null,
   "metadata": {},
   "outputs": [],
   "source": [
    "\n",
    "# define a function to match phrases that can be multiple keywords \n",
    "# about jewish institutions and return matched terms \n",
    "def match_phrases(text, phrases):\n",
    "    \"\"\"\n",
    "    Match phrases that can be multiple keywords about jewish institutions\n",
    "    and return matched phrases using regex.\n",
    "    \"\"\"\n",
    "    # import regex\n",
    "    # define a list to hold the matched phrases\n",
    "    matched_phrases = []\n",
    "    # loop through the phrases\n",
    "    for phrase in phrases:\n",
    "        # if the phrase is in the text\n",
    "        if re.search(phrase, text, re.IGNORECASE):\n",
    "            # add the phrase to the list of matched phrases\n",
    "            matched_phrases.append(phrase)\n",
    "    # return the list of matched phrases\n",
    "    return matched_phrases\n",
    "\n",
    "\n",
    "\n",
    "\n",
    "# test the function on the first row of the dataframe on message_text and ocr_results columns \n",
    "# add them to the dataframe as new columns called matched_terms_message_text and matched_terms_ocr_results\n",
    "\n",
    "def id_jewish_institutions(row):\n",
    "\n",
    "    \"\"\" \n",
    "    Add a column to the dataframe called jewish_institution_mentioned\n",
    "    that is True if the message_text or ocr_results columns contain\n",
    "    a term about jewish institutions.\n",
    "    \"\"\"\n",
    "\n",
    "    # handle if message_text or ocr_results is NaN\n",
    "    if pd.isna(row[\"message_text\"]):\n",
    "        row[\"message_text\"] = \"\"\n",
    "    if pd.isna(row[\"ocr_results\"]):\n",
    "        row[\"ocr_results\"] = \"\"\n",
    "\n",
    "    row[\"matched_terms_message_text\"] = match_phrases(row[\"message_text\"], phrases)\n",
    "    row[\"matched_terms_ocr_results\"] = match_phrases(row[\"ocr_results\"], phrases)\n",
    "\n",
    "    # add boolean column for whether jewish institution was mentioned in either message_text or ocr_results\n",
    "    row[\"jewish_institution_mentioned\"] = bool(row[\"matched_terms_message_text\"] or row[\"matched_terms_ocr_results\"])\n",
    "    return row\n"
   ]
  },
  {
   "cell_type": "code",
   "execution_count": null,
   "metadata": {},
   "outputs": [],
   "source": [
    "\n",
    "df_processed = df_processed.apply(id_jewish_institutions, axis=1)\n",
    "df_processed.sample(10)"
   ]
  },
  {
   "cell_type": "code",
   "execution_count": null,
   "metadata": {},
   "outputs": [],
   "source": [
    "# define a function to display processed telegram messages with OCR results, matched terms, weapons IDed and jewish institution mentioned\n",
    "def display_processed_message(row):\n",
    "    \"\"\"\n",
    "    Display a mock telegram message using image_attachment, message_text, date_time\n",
    "    \"\"\"\n",
    "\n",
    "    # get weapon_instance_count\n",
    "    weapon_instance_count = row[\"weapon_instance_count\"]\n",
    "\n",
    "    if weapon_instance_count > 0:\n",
    "        # get the weapon drawn path\n",
    "        image_attachment = Path(row[\"weapon_drawn_path\"])\n",
    "    else:\n",
    "        # get the image attachment\n",
    "        image_attachment = Path(row[\"image_attachment\"])\n",
    "    \n",
    "    # get the message text\n",
    "    message_text = row[\"message_text\"]\n",
    "    # get the date time\n",
    "    date_time = row[\"date_time\"]\n",
    "    # get the OCR results\n",
    "    ocr_results = row[\"ocr_results\"]\n",
    "    # get the matched terms in message text\n",
    "    matched_terms_message_text = row[\"matched_terms_message_text\"]\n",
    "    # get if jewish institution was mentioned\n",
    "    jewish_institution_mentioned = row[\"jewish_institution_mentioned\"]\n",
    "    # get the matched terms in ocr results\n",
    "    matched_terms_ocr_results = row[\"matched_terms_ocr_results\"]\n",
    "\n",
    "\n",
    "    # print mock telegram message header\n",
    "    print(\"=====================MOCK TELEGRAM MESSAGE=====================\")\n",
    "    # print the message id\n",
    "    print(\"MOCK TELEGRAM MESSAGE ID:\", row[\"message_id\"])\n",
    "    # display the message text\n",
    "    print(\"MOCK TELEGRAM MESSAGE TEXT:\", message_text)\n",
    "    # display the date time\n",
    "    print(\"MOCK TELEGRAM MESSAGE DATETIME:\", date_time)\n",
    "    # display the image attachment\n",
    "    print(\"=====================DATA PROCESSING RESULTS=====================\")\n",
    "    # display the OCR results\n",
    "    print(\"OCR RESULTS:\", ocr_results)\n",
    "    # display if weapon was drawn\n",
    "    print(\"WEAPONS IDENTIFIED:\", weapon_instance_count)\n",
    "    # display if jewish institution was mentioned\n",
    "    print(\"JEWISH INSTITUTION MENTIONED:\", jewish_institution_mentioned)  \\\n",
    "    # display the matched terms in message text\n",
    "    print(\"MATCHED TERMS IN MOCK MESSAGE TEXT:\", matched_terms_message_text)\n",
    "    # display matched terms in ocr results\n",
    "    print(\"MATCHED TERMS IN OCR RESULTS:\", matched_terms_ocr_results)\n",
    "    image = Image.open(image_attachment)\n",
    "    image.thumbnail((800, 800))\n",
    "    display(image)\n",
    "\n",
    "    # print a new line\n",
    "    print(\"\\n\")   \n",
    "    print(\"\\n\") \n"
   ]
  },
  {
   "attachments": {},
   "cell_type": "markdown",
   "metadata": {},
   "source": [
    "# Display all processed results"
   ]
  },
  {
   "cell_type": "code",
   "execution_count": null,
   "metadata": {},
   "outputs": [],
   "source": [
    "# display all the messages \n",
    "for index, row in df_processed.iterrows():\n",
    "    display_processed_message(row)"
   ]
  },
  {
   "cell_type": "code",
   "execution_count": null,
   "metadata": {},
   "outputs": [],
   "source": [
    "# export the dataframe to a csv file\n",
    "df_processed.to_csv(\"../mock_telegram_messages_processed.csv\", index=False)"
   ]
  }
 ],
 "metadata": {
  "kernelspec": {
   "display_name": "yolov5",
   "language": "python",
   "name": "python3"
  },
  "language_info": {
   "codemirror_mode": {
    "name": "ipython",
    "version": 3
   },
   "file_extension": ".py",
   "mimetype": "text/x-python",
   "name": "python",
   "nbconvert_exporter": "python",
   "pygments_lexer": "ipython3",
   "version": "3.10.6 | packaged by conda-forge | (main, Aug 22 2022, 20:41:22) [Clang 13.0.1 ]"
  },
  "orig_nbformat": 4,
  "vscode": {
   "interpreter": {
    "hash": "207c11e30d403a3c4f840ed8d53b5bfb31ac16845a9bb9ce0699a3d2c5e3293c"
   }
  }
 },
 "nbformat": 4,
 "nbformat_minor": 2
}
